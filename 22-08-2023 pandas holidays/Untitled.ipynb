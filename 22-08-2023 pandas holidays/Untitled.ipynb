{
 "cells": [
  {
   "cell_type": "code",
   "execution_count": 6,
   "id": "d5ffaba3",
   "metadata": {},
   "outputs": [
    {
     "data": {
      "text/html": [
       "<div>\n",
       "<style scoped>\n",
       "    .dataframe tbody tr th:only-of-type {\n",
       "        vertical-align: middle;\n",
       "    }\n",
       "\n",
       "    .dataframe tbody tr th {\n",
       "        vertical-align: top;\n",
       "    }\n",
       "\n",
       "    .dataframe thead th {\n",
       "        text-align: right;\n",
       "    }\n",
       "</style>\n",
       "<table border=\"1\" class=\"dataframe\">\n",
       "  <thead>\n",
       "    <tr style=\"text-align: right;\">\n",
       "      <th></th>\n",
       "      <th>Open</th>\n",
       "      <th>High</th>\n",
       "      <th>Low</th>\n",
       "      <th>Close</th>\n",
       "      <th>Volume</th>\n",
       "    </tr>\n",
       "  </thead>\n",
       "  <tbody>\n",
       "    <tr>\n",
       "      <th>0</th>\n",
       "      <td>144.88</td>\n",
       "      <td>145.30</td>\n",
       "      <td>143.10</td>\n",
       "      <td>143.50</td>\n",
       "      <td>14277848</td>\n",
       "    </tr>\n",
       "    <tr>\n",
       "      <th>1</th>\n",
       "      <td>143.69</td>\n",
       "      <td>144.79</td>\n",
       "      <td>142.72</td>\n",
       "      <td>144.09</td>\n",
       "      <td>21569557</td>\n",
       "    </tr>\n",
       "    <tr>\n",
       "      <th>2</th>\n",
       "      <td>143.02</td>\n",
       "      <td>143.50</td>\n",
       "      <td>142.41</td>\n",
       "      <td>142.73</td>\n",
       "      <td>24128782</td>\n",
       "    </tr>\n",
       "    <tr>\n",
       "      <th>3</th>\n",
       "      <td>142.90</td>\n",
       "      <td>144.75</td>\n",
       "      <td>142.90</td>\n",
       "      <td>144.18</td>\n",
       "      <td>19201712</td>\n",
       "    </tr>\n",
       "    <tr>\n",
       "      <th>4</th>\n",
       "      <td>144.11</td>\n",
       "      <td>145.95</td>\n",
       "      <td>143.37</td>\n",
       "      <td>145.06</td>\n",
       "      <td>21090636</td>\n",
       "    </tr>\n",
       "  </tbody>\n",
       "</table>\n",
       "</div>"
      ],
      "text/plain": [
       "     Open    High     Low   Close    Volume\n",
       "0  144.88  145.30  143.10  143.50  14277848\n",
       "1  143.69  144.79  142.72  144.09  21569557\n",
       "2  143.02  143.50  142.41  142.73  24128782\n",
       "3  142.90  144.75  142.90  144.18  19201712\n",
       "4  144.11  145.95  143.37  145.06  21090636"
      ]
     },
     "execution_count": 6,
     "metadata": {},
     "output_type": "execute_result"
    }
   ],
   "source": [
    "import pandas as pd\n",
    "df = pd.read_csv(\"aapl_no_dates.csv\")\n",
    "df.head()"
   ]
  },
  {
   "cell_type": "code",
   "execution_count": 11,
   "id": "a67d45f7",
   "metadata": {},
   "outputs": [
    {
     "data": {
      "text/plain": [
       "DatetimeIndex(['2023-08-01', '2023-08-02', '2023-08-03', '2023-08-04',\n",
       "               '2023-08-07', '2023-08-08', '2023-08-09', '2023-08-10',\n",
       "               '2023-08-11', '2023-08-14', '2023-08-15', '2023-08-16',\n",
       "               '2023-08-17', '2023-08-18', '2023-08-21', '2023-08-22',\n",
       "               '2023-08-23', '2023-08-24', '2023-08-25', '2023-08-28',\n",
       "               '2023-08-29', '2023-08-30'],\n",
       "              dtype='datetime64[ns]', freq='B')"
      ]
     },
     "execution_count": 11,
     "metadata": {},
     "output_type": "execute_result"
    }
   ],
   "source": [
    "rng = pd.date_range(start = \"08-01-2023\",end = \"08-30-2023\", freq=\"B\")\n",
    "rng"
   ]
  },
  {
   "cell_type": "markdown",
   "id": "55945d40",
   "metadata": {},
   "source": [
    "# Using CustomBusinessDay to generate Banladesh holidays calendar frequency"
   ]
  },
  {
   "cell_type": "code",
   "execution_count": 17,
   "id": "20acf381",
   "metadata": {},
   "outputs": [
    {
     "data": {
      "text/plain": [
       "DatetimeIndex(['2023-08-01', '2023-08-02', '2023-08-03', '2023-08-07',\n",
       "               '2023-08-08', '2023-08-09', '2023-08-10', '2023-08-11',\n",
       "               '2023-08-14', '2023-08-15', '2023-08-16', '2023-08-17',\n",
       "               '2023-08-18', '2023-08-21', '2023-08-22', '2023-08-23',\n",
       "               '2023-08-24', '2023-08-25', '2023-08-28', '2023-08-29',\n",
       "               '2023-08-30'],\n",
       "              dtype='datetime64[ns]', freq='C')"
      ]
     },
     "execution_count": 17,
     "metadata": {},
     "output_type": "execute_result"
    }
   ],
   "source": [
    "from pandas.tseries.offsets import CustomBusinessDay\n",
    "from pandas.tseries.holiday import AbstractHolidayCalendar, Holiday, nearest_workday\n",
    "\n",
    "class BangladeshHolidayCalendar(AbstractHolidayCalendar):\n",
    "    rules = [\n",
    "        Holiday('New Year', month=1, day=1),\n",
    "        Holiday('International Workers\\' Day', month=5, day=1),\n",
    "        Holiday('Victory Day', month=12, day=16),\n",
    "        Holiday('Christmas Day', month=12, day=25),\n",
    "        Holiday('Friday',month=8,day=4)\n",
    "        # Add more holidays here\n",
    "    ]\n",
    "    \n",
    "ban_cal = CustomBusinessDay(calendar=BangladeshHolidayCalendar())\n",
    "\n",
    "rng = pd.date_range(start = \"08-01-2023\",end = \"08-30-2023\", freq=ban_cal)\n",
    "rng # friday 4th date is holiday"
   ]
  },
  {
   "cell_type": "markdown",
   "id": "dcb86fd3",
   "metadata": {},
   "source": [
    "# CustomBusinessDay\n",
    "Weekend in egypt is Friday and Saturday. Sunday is just a normal weekday and you can handle this custom week schedule using CystomBysinessDay with weekmask as shown below"
   ]
  },
  {
   "cell_type": "code",
   "execution_count": 18,
   "id": "21cdc2e7",
   "metadata": {},
   "outputs": [
    {
     "data": {
      "text/plain": [
       "DatetimeIndex(['2023-08-01', '2023-08-02', '2023-08-03', '2023-08-05',\n",
       "               '2023-08-06', '2023-08-07', '2023-08-08', '2023-08-09',\n",
       "               '2023-08-10', '2023-08-12', '2023-08-13', '2023-08-14',\n",
       "               '2023-08-15', '2023-08-16', '2023-08-17', '2023-08-19',\n",
       "               '2023-08-20', '2023-08-21', '2023-08-22', '2023-08-23',\n",
       "               '2023-08-24', '2023-08-26', '2023-08-27', '2023-08-28',\n",
       "               '2023-08-29', '2023-08-30'],\n",
       "              dtype='datetime64[ns]', freq='C')"
      ]
     },
     "execution_count": 18,
     "metadata": {},
     "output_type": "execute_result"
    }
   ],
   "source": [
    "ban_holiday = \"Sat Sun Mon Tue Wed Thu\" # only friday is holiday\n",
    "ban = CustomBusinessDay(weekmask=ban_holiday)\n",
    "rng = pd.date_range(start = \"08-01-2023\",end = \"08-30-2023\", freq=ban)\n",
    "rng"
   ]
  },
  {
   "cell_type": "code",
   "execution_count": null,
   "id": "8011ba38",
   "metadata": {},
   "outputs": [],
   "source": []
  }
 ],
 "metadata": {
  "kernelspec": {
   "display_name": "Python 3 (ipykernel)",
   "language": "python",
   "name": "python3"
  },
  "language_info": {
   "codemirror_mode": {
    "name": "ipython",
    "version": 3
   },
   "file_extension": ".py",
   "mimetype": "text/x-python",
   "name": "python",
   "nbconvert_exporter": "python",
   "pygments_lexer": "ipython3",
   "version": "3.10.9"
  }
 },
 "nbformat": 4,
 "nbformat_minor": 5
}
