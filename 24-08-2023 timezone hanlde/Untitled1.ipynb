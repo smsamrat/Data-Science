{
 "cells": [
  {
   "cell_type": "code",
   "execution_count": 2,
   "id": "021338dd",
   "metadata": {},
   "outputs": [
    {
     "data": {
      "text/plain": [
       "2017-08-22 09:00:00    0\n",
       "2017-08-22 09:30:00    1\n",
       "2017-08-22 10:00:00    2\n",
       "2017-08-22 10:30:00    3\n",
       "2017-08-22 11:00:00    4\n",
       "2017-08-22 11:30:00    5\n",
       "2017-08-22 12:00:00    6\n",
       "2017-08-22 12:30:00    7\n",
       "2017-08-22 13:00:00    8\n",
       "2017-08-22 13:30:00    9\n",
       "Freq: 30T, dtype: int64"
      ]
     },
     "execution_count": 2,
     "metadata": {},
     "output_type": "execute_result"
    }
   ],
   "source": [
    "import pandas as pd\n",
    "rng = pd.date_range(start=\"2017-08-22 09:00:00\",periods=10, freq='30min')\n",
    "s = pd.Series(range(10),index=rng)\n",
    "s"
   ]
  },
  {
   "cell_type": "code",
   "execution_count": 11,
   "id": "bcbcd43d",
   "metadata": {},
   "outputs": [
    {
     "data": {
      "text/plain": [
       "2017-08-22 09:00:00+06:00    0\n",
       "2017-08-22 09:30:00+06:00    1\n",
       "2017-08-22 10:00:00+06:00    2\n",
       "2017-08-22 10:30:00+06:00    3\n",
       "2017-08-22 11:00:00+06:00    4\n",
       "2017-08-22 11:30:00+06:00    5\n",
       "2017-08-22 12:00:00+06:00    6\n",
       "2017-08-22 12:30:00+06:00    7\n",
       "2017-08-22 13:00:00+06:00    8\n",
       "2017-08-22 13:30:00+06:00    9\n",
       "Freq: 30T, dtype: int64"
      ]
     },
     "execution_count": 11,
     "metadata": {},
     "output_type": "execute_result"
    }
   ],
   "source": [
    "b = s.tz_localize(tz=\"Asia/Dhaka\")\n",
    "b_with_freq = b.asfreq('30min')\n",
    "b_with_freq"
   ]
  },
  {
   "cell_type": "code",
   "execution_count": 9,
   "id": "efacc399",
   "metadata": {},
   "outputs": [
    {
     "data": {
      "text/plain": [
       "2017-08-22 09:00:00+05:30    0\n",
       "2017-08-22 09:30:00+05:30    1\n",
       "2017-08-22 10:00:00+05:30    2\n",
       "2017-08-22 10:30:00+05:30    3\n",
       "2017-08-22 11:00:00+05:30    4\n",
       "2017-08-22 11:30:00+05:30    5\n",
       "2017-08-22 12:00:00+05:30    6\n",
       "2017-08-22 12:30:00+05:30    7\n",
       "2017-08-22 13:00:00+05:30    8\n",
       "2017-08-22 13:30:00+05:30    9\n",
       "Freq: 30T, dtype: int64"
      ]
     },
     "execution_count": 9,
     "metadata": {},
     "output_type": "execute_result"
    }
   ],
   "source": [
    "c = s.tz_localize(tz=\"Asia/Calcutta\")\n",
    "c_with_freq = c.asfreq('30min')\n",
    "c_with_freq\n"
   ]
  },
  {
   "cell_type": "code",
   "execution_count": 12,
   "id": "1b8183b0",
   "metadata": {},
   "outputs": [
    {
     "data": {
      "text/plain": [
       "2017-08-22 03:00:00+00:00     NaN\n",
       "2017-08-22 03:30:00+00:00     1.0\n",
       "2017-08-22 04:00:00+00:00     3.0\n",
       "2017-08-22 04:30:00+00:00     5.0\n",
       "2017-08-22 05:00:00+00:00     7.0\n",
       "2017-08-22 05:30:00+00:00     9.0\n",
       "2017-08-22 06:00:00+00:00    11.0\n",
       "2017-08-22 06:30:00+00:00    13.0\n",
       "2017-08-22 07:00:00+00:00    15.0\n",
       "2017-08-22 07:30:00+00:00    17.0\n",
       "2017-08-22 08:00:00+00:00     NaN\n",
       "Freq: 30T, dtype: float64"
      ]
     },
     "execution_count": 12,
     "metadata": {},
     "output_type": "execute_result"
    }
   ],
   "source": [
    "b_with_freq + c_with_freq"
   ]
  },
  {
   "cell_type": "code",
   "execution_count": null,
   "id": "19db72f5",
   "metadata": {},
   "outputs": [],
   "source": []
  }
 ],
 "metadata": {
  "kernelspec": {
   "display_name": "Python 3 (ipykernel)",
   "language": "python",
   "name": "python3"
  },
  "language_info": {
   "codemirror_mode": {
    "name": "ipython",
    "version": 3
   },
   "file_extension": ".py",
   "mimetype": "text/x-python",
   "name": "python",
   "nbconvert_exporter": "python",
   "pygments_lexer": "ipython3",
   "version": "3.10.9"
  }
 },
 "nbformat": 4,
 "nbformat_minor": 5
}
